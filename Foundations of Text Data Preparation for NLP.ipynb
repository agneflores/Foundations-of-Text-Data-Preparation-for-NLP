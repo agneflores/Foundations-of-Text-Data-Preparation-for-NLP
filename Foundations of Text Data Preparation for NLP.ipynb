{
 "cells": [
  {
   "cell_type": "markdown",
   "metadata": {},
   "source": [
    "## Foundations of Text Data Preparation for NLP"
   ]
  },
  {
   "cell_type": "markdown",
   "metadata": {},
   "source": [
    "### Project Overview\n",
    "This project delves into the fundamental aspects of preparing text data for natural language processing (NLP) models. It encompasses various techniques including word and sentence tokenization, lexical diversity, and text manipulation within DataFrames. The notebook provides a comprehensive guide on opening and processing .txt files, handling parts of speech, named entity recognition, and text preprocessing techniques such as stemming and lemmatizing. By exploring these foundational methods, the project equips users with essential skills for effectively managing and analyzing text data in NLP applications."
   ]
  },
  {
   "cell_type": "markdown",
   "metadata": {
    "nbgrader": {
     "grade": false,
     "grade_id": "cell-0850ed01a49b26c2",
     "locked": true,
     "schema_version": 3,
     "solution": false,
     "task": false
    }
   },
   "source": [
    "### Part 1: Tokenization\n",
    "\n",
    "This notebook focuses on tokenizing text.  It will use `nltk` to tokenize words and sentences of a given document.  In general, tokenizing a text refers to the operation of splitting the text apart into chunks.  Here, our chunks can be individual \"words\" and \"sentences\".  These are not necessarily meant to refer to proper grammatical structure or meaning, however splitting entities based on white space, periods, or other punctuation.  \n",
    "\n",
    "#### Outline\n",
    "\n",
    "- Word Tokenizing a String\n",
    "- Sentence Tokenization of a string\n",
    "- Unique Words with 'set'\n",
    "- Counts of words\n",
    "- Lexical Diversity\n",
    "- Text in a DataFrame"
   ]
  },
  {
   "cell_type": "markdown",
   "metadata": {
    "nbgrader": {
     "grade": false,
     "grade_id": "cell-b6d1d57070ae15cc",
     "locked": true,
     "schema_version": 3,
     "solution": false,
     "task": false
    }
   },
   "source": [
    "#### The Data\n",
    "\n",
    "The notebook will use both a single piece of text in the form of a lead paragraph from Isaac Newton's *Principia* and a dataset including text data from [kaggle](https://www.kaggle.com/datasets/sankha1998/emotion?select=Emotion%28sad%29.csv) related to classifying WhatsApp status. "
   ]
  },
  {
   "cell_type": "code",
   "execution_count": 37,
   "metadata": {},
   "outputs": [],
   "source": [
    "principia = '''\n",
    "Since the ancients (as we are told by Pappus), made great account of the science of mechanics in the investigation of natural things; and the moderns, laying aside substantial forms and occult qualities, have endeavoured to subject the phænomena of nature to the laws of mathematics, I have in this treatise cultivated mathematics so far as it regards philosophy. The ancients considered mechanics in a twofold respect; as rational, which proceeds accurately by demonstration: and practical. To practical mechanics all the manual arts belong, from which mechanics took its name. But as artificers do not work with perfect accuracy, it comes to pass that mechanics is so distinguished from geometry, that what is perfectly accurate is called geometrical, what is less so, is called mechanical. But the errors are not in the art, but in the artificers. He that works with less accuracy is an imperfect mechanic; and if any could work with perfect accuracy, he would be the most perfect mechanic of all; for the description if right lines and circles, upon which geometry is founded, belongs to mechanics. Geometry does not teach us to draw these lines, but requires them to be drawn; for it requires that the learner should first be taught to describe these accurately, before he enters upon geometry; then it shows how by these operations problems may be solved. To describe right lines and circles are problems, but not geometrical problems. The solution of these problems is required from mechanics; and by geometry the use of them, when so solved, is shown; and it is the glory of geometry that from those few principles, brought from without, it is able to produce so many things. Therefore geometry is founded in mechanical practice, and is nothing but that part of universal mechanics which accurately proposes and demonstrates the art of measuring. But since the manual arts are chiefly conversant in the moving of bodies, it comes to pass that geometry is commonly referred to their magnitudes, and mechanics to their motion. In this sense rational mechanics will be the science of motions resulting from any forces whatsoever, and of the forces required to produce any motions, accurately proposed and demonstrated. This part of mechanics was cultivated by the ancients in the five powers which relate to manual arts, who considered gravity (it not being a manual power), no otherwise than as it moved weights by those powers. Our design not respecting arts, but philosophy, and our subject not manual but natural powers, we consider chiefly those things which relate to gravity, levity, elastic force, the resistance of fluids, and the like forces, whether attractive or impulsive; and therefore we offer this work as the mathematical principles if philosophy; for all the difficulty of philosophy seems to consist in this—from the phænomena of motions to investigate the forces of nature, and then from these forces to demonstrate the other phænomena; and to this end the general propositions in the first and second book are directed. In the third book we give an example of this in the explication of the System of the World; for by the propositions mathematically demonstrated in the former books, we in the third derive from the celestial phenomena the forces of gravity with which bodies tend to the sun and the several planets. Then from these forces, by other propositions which are also mathematical, we deduce the motions of the planets, the comets, the moon, and the sea. I wish we could derive the rest of the phænomena of nature by the same kind of reasoning from mechanical principles; for I am induced by many reasons to suspect that they may all depend upon certain forces by which the particles of bodies, by some causes hitherto unknown, are either mutually impelled towards each other, and cohere in regular figures, or are repelled and recede from each other; which forces being unknown, philosophers have hitherto attempted the search of nature in vain; but I hope the principles here laid down will afford some light either to this or some truer method of philosophy.'''"
   ]
  },
  {
   "cell_type": "code",
   "execution_count": 38,
   "metadata": {},
   "outputs": [
    {
     "name": "stdout",
     "output_type": "stream",
     "text": [
      "\n",
      "Since the ancients (as we are told by Pappus), made great account of the science of mechanics in the investigation of natural things; and the moderns, laying aside substantial forms and occult qualities, have endeavoured to subject the phænomena of nature to the laws of mathematics, I have in this treatise cultivated mathematics so far as it regards philosophy. The ancients considered mechanics in a twofold respect; as rational, which proceeds accurately by demonstration: and practical. To practical mechanics all the manual arts belong, from which mechanics took its name. But as artificers do not work with perfect accuracy, it comes to pass that mechanics is so distinguished from geometry, that what is perfectly accurate is called geometrical, what is less so, is called mechanical. But the errors are not in the art, but in the artificers. He that works with less accuracy is an imperfect mechanic; and if any could work with perfect accuracy, he would be the most perfect mechanic of all; for the description if right lines and circles, upon which geometry is founded, belongs to mechanics. Geometry does not teach us to draw these lines, but requires them to be drawn; for it requires that the learner should first be taught to describe these accurately, before he enters upon geometry; then it shows how by these operations problems may be solved. To describe right lines and circles are problems, but not geometrical problems. The solution of these problems is required from mechanics; and by geometry the use of them, when so solved, is shown; and it is the glory of geometry that from those few principles, brought from without, it is able to produce so many things. Therefore geometry is founded in mechanical practice, and is nothing but that part of universal mechanics which accurately proposes and demonstrates the art of measuring. But since the manual arts are chiefly conversant in the moving of bodies, it comes to pass that geometry is commonly referred to their magnitudes, and mechanics to their motion. In this sense rational mechanics will be the science of motions resulting from any forces whatsoever, and of the forces required to produce any motions, accurately proposed and demonstrated. This part of mechanics was cultivated by the ancients in the five powers which relate to manual arts, who considered gravity (it not being a manual power), no otherwise than as it moved weights by those powers. Our design not respecting arts, but philosophy, and our subject not manual but natural powers, we consider chiefly those things which relate to gravity, levity, elastic force, the resistance of fluids, and the like forces, whether attractive or impulsive; and therefore we offer this work as the mathematical principles if philosophy; for all the difficulty of philosophy seems to consist in this—from the phænomena of motions to investigate the forces of nature, and then from these forces to demonstrate the other phænomena; and to this end the general propositions in the first and second book are directed. In the third book we give an example of this in the explication of the System of the World; for by the propositions mathematically demonstrated in the former books, we in the third derive from the celestial phenomena the forces of gravity with which bodies tend to the sun and the several planets. Then from these forces, by other propositions which are also mathematical, we deduce the motions of the planets, the comets, the moon, and the sea. I wish we could derive the rest of the phænomena of nature by the same kind of reasoning from mechanical principles; for I am induced by many reasons to suspect that they may all depend upon certain forces by which the particles of bodies, by some causes hitherto unknown, are either mutually impelled towards each other, and cohere in regular figures, or are repelled and recede from each other; which forces being unknown, philosophers have hitherto attempted the search of nature in vain; but I hope the principles here laid down will afford some light either to this or some truer method of philosophy.\n"
     ]
    }
   ],
   "source": [
    "print(principia)"
   ]
  },
  {
   "cell_type": "code",
   "execution_count": 39,
   "metadata": {},
   "outputs": [],
   "source": [
    "import nltk\n",
    "import pandas as pd"
   ]
  },
  {
   "cell_type": "code",
   "execution_count": 40,
   "metadata": {},
   "outputs": [
    {
     "name": "stderr",
     "output_type": "stream",
     "text": [
      "[nltk_data] Downloading package punkt to\n",
      "[nltk_data]     C:\\Users\\agnek\\AppData\\Roaming\\nltk_data...\n",
      "[nltk_data]   Package punkt is already up-to-date!\n"
     ]
    },
    {
     "data": {
      "text/plain": [
       "True"
      ]
     },
     "execution_count": 40,
     "metadata": {},
     "output_type": "execute_result"
    }
   ],
   "source": [
    "from nltk import word_tokenize, sent_tokenize\n",
    "nltk.download('punkt')"
   ]
  },
  {
   "cell_type": "markdown",
   "metadata": {
    "nbgrader": {
     "grade": false,
     "grade_id": "cell-8678f8df6e5d33d5",
     "locked": true,
     "schema_version": 3,
     "solution": false,
     "task": false
    }
   },
   "source": [
    "### Word Tokenizing a String\n",
    "\n",
    "Task: to use the `word_tokenize` to split the string `principia` into individual elements of the text. "
   ]
  },
  {
   "cell_type": "code",
   "execution_count": 41,
   "metadata": {
    "nbgrader": {
     "grade": false,
     "grade_id": "cell-0fcf4e36f634a872",
     "locked": false,
     "schema_version": 3,
     "solution": true,
     "task": false
    }
   },
   "outputs": [
    {
     "name": "stdout",
     "output_type": "stream",
     "text": [
      "<class 'list'>\n",
      "['Since', 'the', 'ancients', '(', 'as']\n"
     ]
    }
   ],
   "source": [
    "    \n",
    "# Split the string\n",
    "task1 = word_tokenize(principia)\n",
    "\n",
    "# Check the result\n",
    "print(type(task1))\n",
    "print(task1[:5])"
   ]
  },
  {
   "cell_type": "markdown",
   "metadata": {
    "nbgrader": {
     "grade": false,
     "grade_id": "cell-cb1827736a6b11d3",
     "locked": true,
     "schema_version": 3,
     "solution": false,
     "task": false
    }
   },
   "source": [
    "\n",
    "### Sentence Tokenization of a string\n",
    "\n",
    "Task: rather than breaking a text apart into individual tokens or \"words\", split based on sentences using `sent_tokenize`. "
   ]
  },
  {
   "cell_type": "code",
   "execution_count": 42,
   "metadata": {
    "nbgrader": {
     "grade": false,
     "grade_id": "cell-791a2e377df55633",
     "locked": false,
     "schema_version": 3,
     "solution": true,
     "task": false
    }
   },
   "outputs": [
    {
     "name": "stdout",
     "output_type": "stream",
     "text": [
      "<class 'list'>\n",
      "['\\nSince the ancients (as we are told by Pappus), made great account of the science of mechanics in the investigation of natural things; and the moderns, laying aside substantial forms and occult qualities, have endeavoured to subject the phænomena of nature to the laws of mathematics, I have in this treatise cultivated mathematics so far as it regards philosophy.', 'The ancients considered mechanics in a twofold respect; as rational, which proceeds accurately by demonstration: and practical.']\n"
     ]
    }
   ],
   "source": [
    "# Split based on sentences\n",
    "task2 = sent_tokenize(principia)\n",
    "\n",
    "\n",
    "# Check the result\n",
    "print(type(task2))\n",
    "print(task2[:2])"
   ]
  },
  {
   "cell_type": "markdown",
   "metadata": {
    "nbgrader": {
     "grade": false,
     "grade_id": "cell-9a53c40e8dd0c32b",
     "locked": true,
     "schema_version": 3,
     "solution": false,
     "task": false
    }
   },
   "source": [
    "\n",
    "### Unique Words with `set`\n",
    "\n",
    "Task: the tokenization does not yield unique words.  To create a collection of unique words, use the `set` function along with `word_tokenize` to create a mathematical set object of the words from the principia."
   ]
  },
  {
   "cell_type": "code",
   "execution_count": 43,
   "metadata": {
    "nbgrader": {
     "grade": false,
     "grade_id": "cell-0996778cdabc41b7",
     "locked": false,
     "schema_version": 3,
     "solution": true,
     "task": false
    }
   },
   "outputs": [
    {
     "name": "stdout",
     "output_type": "stream",
     "text": [
      "<class 'set'>\n",
      "{'required', 'mathematical', 'it', 'depend', 'weights', 'their', 'laid', 'hope', 'we', 'manual', 'seems', 'practical', 'unknown', 'demonstrate', 'design', 'few', 'what', 'who', 'here', 'able', 'In', 'our', 'investigation', 'example', 'twofold', 'Our', 'perfectly', 'circles', 'otherwise', 'when', 'than', 'tend', 'could', 'elastic', 'attempted', 'commonly', 'endeavoured', 'truer', 'mutually', 'mechanical', 'I', 'demonstrated', 'He', 'shown', 'Since', 'them', 'levity', 'recede', 'this', 'proposes', 'took', 'great', 'describe', 'forces', 'teach', 'offer', 'accuracy', 'moderns', 'laws', 'System', 'reasons', 'World', 'gravity', 'phenomena', 'particles', 'us', 'ancients', 'demonstrates', 'consist', 'cohere', 'solved', 'five', 'regards', 'does', 'any', 'upon', 'brought', 'towards', ';', 'do', 'respecting', 'so', 'books', 'investigate', 'kind', 'causes', 'an', 'learner', 'bodies', 'should', 'was', 'propositions', 'search', 'no', 'that', 'give', 'by', 'without', 'many', 'Therefore', 'part', 'each', 'rational', 'a', 'work', 'for', 'attractive', 'which', 'with', 'hitherto', 'considered', 'founded', 'these', 'second', 'certain', 'planets', 'am', 'light', 'natural', 'called', 'fluids', 'forms', 'perfect', 'induced', 'most', 'power', 'if', 'taught', 'since', 'regular', 'principles', 'those', 'philosophers', 'afford', 'arts', 'moving', 'universal', 'pass', 'would', 'nothing', 'solution', 'proceeds', 'its', 'aside', 'celestial', 'third', 'imperfect', 'how', 'not', 'comets', ',', 'some', 'occult', ')', 'same', '(', 'lines', 'relate', 'nature', 'respect', 'works', 'requires', 'force', 'they', 'moon', 'This', 'But', 'belongs', 'like', 'then', 'whether', 'distinguished', 'or', 'repelled', 'from', 'in', 'before', 'first', 'moved', 'enters', 'whatsoever', 'phænomena', 'comes', 'several', 'produce', 'as', 'impulsive', '.', 'resulting', 'account', 'and', 'accurate', 'may', 'down', 'wish', 'sense', 'things', 'draw', ':', 'sun', 'vain', 'right', 'accurately', 'description', 'mechanics', 'problems', 'qualities', 'geometry', 'general', 'mathematically', 'will', 'other', 'substantial', 'far', 'told', 'motions', 'reasoning', 'sea', 'either', 'motion', 'mechanic', 'be', 'conversant', 'deduce', 'referred', 'figures', 'book', 'demonstration', 'difficulty', 'art', 'Geometry', 'operations', 'this—from', 'belong', 'being', 'cultivated', 'philosophy', 'powers', 'use', 'treatise', 'all', 'name', 'method', 'made', 'are', 'The', 'end', 'consider', 'therefore', 'the', 'science', 'mathematics', 'directed', 'proposed', 'Then', 'shows', 'errors', 'to', 'geometrical', 'measuring', 'magnitudes', 'subject', 'former', 'resistance', 'suspect', 'but', 'is', 'have', 'glory', 'also', 'To', 'drawn', 'derive', 'he', 'less', 'artificers', 'chiefly', 'rest', 'explication', 'laying', 'impelled', 'practice', 'of', 'Pappus'}\n"
     ]
    }
   ],
   "source": [
    "\n",
    "# Create a mathematical set object of the words\n",
    "task3 = set(word_tokenize(principia))\n",
    "\n",
    "# Check the result\n",
    "print(type(task3))\n",
    "print(task3)"
   ]
  },
  {
   "cell_type": "markdown",
   "metadata": {
    "nbgrader": {
     "grade": false,
     "grade_id": "cell-19fb0ab0f6d5616f",
     "locked": true,
     "schema_version": 3,
     "solution": false,
     "task": false
    }
   },
   "source": [
    "\n",
    "### Counts of words\n",
    "\n",
    "Task: determine the number of words in the principia text using `word_tokenize` and the `len` function.  "
   ]
  },
  {
   "cell_type": "code",
   "execution_count": 44,
   "metadata": {
    "nbgrader": {
     "grade": false,
     "grade_id": "cell-841fca7061fd74f5",
     "locked": false,
     "schema_version": 3,
     "solution": true,
     "task": false
    }
   },
   "outputs": [
    {
     "name": "stdout",
     "output_type": "stream",
     "text": [
      "<class 'int'>\n",
      "766\n"
     ]
    }
   ],
   "source": [
    "# Determine the number of words\n",
    "task4 = len(word_tokenize(principia))\n",
    "\n",
    "# Check the result\n",
    "print(type(task4))\n",
    "print(task4)"
   ]
  },
  {
   "cell_type": "markdown",
   "metadata": {
    "nbgrader": {
     "grade": false,
     "grade_id": "cell-c82daea35fd67882",
     "locked": true,
     "schema_version": 3,
     "solution": false,
     "task": false
    }
   },
   "source": [
    "\n",
    "### Lexical Diversity\n",
    "\n",
    "Task:the lexical diversity of a text is the ratio of unique words to the total words.  Compute the lexical diversity of the principia text.Use the `length` function to find the numerial amount of unique and non-unique words.\n"
   ]
  },
  {
   "cell_type": "code",
   "execution_count": 45,
   "metadata": {
    "nbgrader": {
     "grade": false,
     "grade_id": "cell-894fa4e09c260b21",
     "locked": false,
     "schema_version": 3,
     "solution": true,
     "task": false
    }
   },
   "outputs": [
    {
     "name": "stdout",
     "output_type": "stream",
     "text": [
      "<class 'float'>\n",
      "0.370757180156658\n",
      "['Since', 'the', 'ancients', '(', 'as', 'we', 'are', 'told', 'by', 'Pappus', ')', ',', 'made', 'great', 'account', 'of', 'the', 'science', 'of', 'mechanics', 'in', 'the', 'investigation', 'of', 'natural', 'things', ';', 'and', 'the', 'moderns', ',', 'laying', 'aside', 'substantial', 'forms', 'and', 'occult', 'qualities', ',', 'have', 'endeavoured', 'to', 'subject', 'the', 'phænomena', 'of', 'nature', 'to', 'the', 'laws', 'of', 'mathematics', ',', 'I', 'have', 'in', 'this', 'treatise', 'cultivated', 'mathematics', 'so', 'far', 'as', 'it', 'regards', 'philosophy', '.', 'The', 'ancients', 'considered', 'mechanics', 'in', 'a', 'twofold', 'respect', ';', 'as', 'rational', ',', 'which', 'proceeds', 'accurately', 'by', 'demonstration', ':', 'and', 'practical', '.', 'To', 'practical', 'mechanics', 'all', 'the', 'manual', 'arts', 'belong', ',', 'from', 'which', 'mechanics', 'took', 'its', 'name', '.', 'But', 'as', 'artificers', 'do', 'not', 'work', 'with', 'perfect', 'accuracy', ',', 'it', 'comes', 'to', 'pass', 'that', 'mechanics', 'is', 'so', 'distinguished', 'from', 'geometry', ',', 'that', 'what', 'is', 'perfectly', 'accurate', 'is', 'called', 'geometrical', ',', 'what', 'is', 'less', 'so', ',', 'is', 'called', 'mechanical', '.', 'But', 'the', 'errors', 'are', 'not', 'in', 'the', 'art', ',', 'but', 'in', 'the', 'artificers', '.', 'He', 'that', 'works', 'with', 'less', 'accuracy', 'is', 'an', 'imperfect', 'mechanic', ';', 'and', 'if', 'any', 'could', 'work', 'with', 'perfect', 'accuracy', ',', 'he', 'would', 'be', 'the', 'most', 'perfect', 'mechanic', 'of', 'all', ';', 'for', 'the', 'description', 'if', 'right', 'lines', 'and', 'circles', ',', 'upon', 'which', 'geometry', 'is', 'founded', ',', 'belongs', 'to', 'mechanics', '.', 'Geometry', 'does', 'not', 'teach', 'us', 'to', 'draw', 'these', 'lines', ',', 'but', 'requires', 'them', 'to', 'be', 'drawn', ';', 'for', 'it', 'requires', 'that', 'the', 'learner', 'should', 'first', 'be', 'taught', 'to', 'describe', 'these', 'accurately', ',', 'before', 'he', 'enters', 'upon', 'geometry', ';', 'then', 'it', 'shows', 'how', 'by', 'these', 'operations', 'problems', 'may', 'be', 'solved', '.', 'To', 'describe', 'right', 'lines', 'and', 'circles', 'are', 'problems', ',', 'but', 'not', 'geometrical', 'problems', '.', 'The', 'solution', 'of', 'these', 'problems', 'is', 'required', 'from', 'mechanics', ';', 'and', 'by', 'geometry', 'the', 'use', 'of', 'them', ',', 'when', 'so', 'solved', ',', 'is', 'shown', ';', 'and', 'it', 'is', 'the', 'glory', 'of', 'geometry', 'that', 'from', 'those', 'few', 'principles', ',', 'brought', 'from', 'without', ',', 'it', 'is', 'able', 'to', 'produce', 'so', 'many', 'things', '.', 'Therefore', 'geometry', 'is', 'founded', 'in', 'mechanical', 'practice', ',', 'and', 'is', 'nothing', 'but', 'that', 'part', 'of', 'universal', 'mechanics', 'which', 'accurately', 'proposes', 'and', 'demonstrates', 'the', 'art', 'of', 'measuring', '.', 'But', 'since', 'the', 'manual', 'arts', 'are', 'chiefly', 'conversant', 'in', 'the', 'moving', 'of', 'bodies', ',', 'it', 'comes', 'to', 'pass', 'that', 'geometry', 'is', 'commonly', 'referred', 'to', 'their', 'magnitudes', ',', 'and', 'mechanics', 'to', 'their', 'motion', '.', 'In', 'this', 'sense', 'rational', 'mechanics', 'will', 'be', 'the', 'science', 'of', 'motions', 'resulting', 'from', 'any', 'forces', 'whatsoever', ',', 'and', 'of', 'the', 'forces', 'required', 'to', 'produce', 'any', 'motions', ',', 'accurately', 'proposed', 'and', 'demonstrated', '.', 'This', 'part', 'of', 'mechanics', 'was', 'cultivated', 'by', 'the', 'ancients', 'in', 'the', 'five', 'powers', 'which', 'relate', 'to', 'manual', 'arts', ',', 'who', 'considered', 'gravity', '(', 'it', 'not', 'being', 'a', 'manual', 'power', ')', ',', 'no', 'otherwise', 'than', 'as', 'it', 'moved', 'weights', 'by', 'those', 'powers', '.', 'Our', 'design', 'not', 'respecting', 'arts', ',', 'but', 'philosophy', ',', 'and', 'our', 'subject', 'not', 'manual', 'but', 'natural', 'powers', ',', 'we', 'consider', 'chiefly', 'those', 'things', 'which', 'relate', 'to', 'gravity', ',', 'levity', ',', 'elastic', 'force', ',', 'the', 'resistance', 'of', 'fluids', ',', 'and', 'the', 'like', 'forces', ',', 'whether', 'attractive', 'or', 'impulsive', ';', 'and', 'therefore', 'we', 'offer', 'this', 'work', 'as', 'the', 'mathematical', 'principles', 'if', 'philosophy', ';', 'for', 'all', 'the', 'difficulty', 'of', 'philosophy', 'seems', 'to', 'consist', 'in', 'this—from', 'the', 'phænomena', 'of', 'motions', 'to', 'investigate', 'the', 'forces', 'of', 'nature', ',', 'and', 'then', 'from', 'these', 'forces', 'to', 'demonstrate', 'the', 'other', 'phænomena', ';', 'and', 'to', 'this', 'end', 'the', 'general', 'propositions', 'in', 'the', 'first', 'and', 'second', 'book', 'are', 'directed', '.', 'In', 'the', 'third', 'book', 'we', 'give', 'an', 'example', 'of', 'this', 'in', 'the', 'explication', 'of', 'the', 'System', 'of', 'the', 'World', ';', 'for', 'by', 'the', 'propositions', 'mathematically', 'demonstrated', 'in', 'the', 'former', 'books', ',', 'we', 'in', 'the', 'third', 'derive', 'from', 'the', 'celestial', 'phenomena', 'the', 'forces', 'of', 'gravity', 'with', 'which', 'bodies', 'tend', 'to', 'the', 'sun', 'and', 'the', 'several', 'planets', '.', 'Then', 'from', 'these', 'forces', ',', 'by', 'other', 'propositions', 'which', 'are', 'also', 'mathematical', ',', 'we', 'deduce', 'the', 'motions', 'of', 'the', 'planets', ',', 'the', 'comets', ',', 'the', 'moon', ',', 'and', 'the', 'sea', '.', 'I', 'wish', 'we', 'could', 'derive', 'the', 'rest', 'of', 'the', 'phænomena', 'of', 'nature', 'by', 'the', 'same', 'kind', 'of', 'reasoning', 'from', 'mechanical', 'principles', ';', 'for', 'I', 'am', 'induced', 'by', 'many', 'reasons', 'to', 'suspect', 'that', 'they', 'may', 'all', 'depend', 'upon', 'certain', 'forces', 'by', 'which', 'the', 'particles', 'of', 'bodies', ',', 'by', 'some', 'causes', 'hitherto', 'unknown', ',', 'are', 'either', 'mutually', 'impelled', 'towards', 'each', 'other', ',', 'and', 'cohere', 'in', 'regular', 'figures', ',', 'or', 'are', 'repelled', 'and', 'recede', 'from', 'each', 'other', ';', 'which', 'forces', 'being', 'unknown', ',', 'philosophers', 'have', 'hitherto', 'attempted', 'the', 'search', 'of', 'nature', 'in', 'vain', ';', 'but', 'I', 'hope', 'the', 'principles', 'here', 'laid', 'down', 'will', 'afford', 'some', 'light', 'either', 'to', 'this', 'or', 'some', 'truer', 'method', 'of', 'philosophy', '.']\n",
      "['\\nSince the ancients (as we are told by Pappus), made great account of the science of mechanics in the investigation of natural things; and the moderns, laying aside substantial forms and occult qualities, have endeavoured to subject the phænomena of nature to the laws of mathematics, I have in this treatise cultivated mathematics so far as it regards philosophy.', 'The ancients considered mechanics in a twofold respect; as rational, which proceeds accurately by demonstration: and practical.', 'To practical mechanics all the manual arts belong, from which mechanics took its name.', 'But as artificers do not work with perfect accuracy, it comes to pass that mechanics is so distinguished from geometry, that what is perfectly accurate is called geometrical, what is less so, is called mechanical.', 'But the errors are not in the art, but in the artificers.', 'He that works with less accuracy is an imperfect mechanic; and if any could work with perfect accuracy, he would be the most perfect mechanic of all; for the description if right lines and circles, upon which geometry is founded, belongs to mechanics.', 'Geometry does not teach us to draw these lines, but requires them to be drawn; for it requires that the learner should first be taught to describe these accurately, before he enters upon geometry; then it shows how by these operations problems may be solved.', 'To describe right lines and circles are problems, but not geometrical problems.', 'The solution of these problems is required from mechanics; and by geometry the use of them, when so solved, is shown; and it is the glory of geometry that from those few principles, brought from without, it is able to produce so many things.', 'Therefore geometry is founded in mechanical practice, and is nothing but that part of universal mechanics which accurately proposes and demonstrates the art of measuring.', 'But since the manual arts are chiefly conversant in the moving of bodies, it comes to pass that geometry is commonly referred to their magnitudes, and mechanics to their motion.', 'In this sense rational mechanics will be the science of motions resulting from any forces whatsoever, and of the forces required to produce any motions, accurately proposed and demonstrated.', 'This part of mechanics was cultivated by the ancients in the five powers which relate to manual arts, who considered gravity (it not being a manual power), no otherwise than as it moved weights by those powers.', 'Our design not respecting arts, but philosophy, and our subject not manual but natural powers, we consider chiefly those things which relate to gravity, levity, elastic force, the resistance of fluids, and the like forces, whether attractive or impulsive; and therefore we offer this work as the mathematical principles if philosophy; for all the difficulty of philosophy seems to consist in this—from the phænomena of motions to investigate the forces of nature, and then from these forces to demonstrate the other phænomena; and to this end the general propositions in the first and second book are directed.', 'In the third book we give an example of this in the explication of the System of the World; for by the propositions mathematically demonstrated in the former books, we in the third derive from the celestial phenomena the forces of gravity with which bodies tend to the sun and the several planets.', 'Then from these forces, by other propositions which are also mathematical, we deduce the motions of the planets, the comets, the moon, and the sea.', 'I wish we could derive the rest of the phænomena of nature by the same kind of reasoning from mechanical principles; for I am induced by many reasons to suspect that they may all depend upon certain forces by which the particles of bodies, by some causes hitherto unknown, are either mutually impelled towards each other, and cohere in regular figures, or are repelled and recede from each other; which forces being unknown, philosophers have hitherto attempted the search of nature in vain; but I hope the principles here laid down will afford some light either to this or some truer method of philosophy.']\n"
     ]
    }
   ],
   "source": [
    "# Use the `length` function to find the numerial amount of unique and non-unique words\n",
    "task5 = len(set(word_tokenize(principia)))/len(word_tokenize(principia))\n",
    "\n",
    "# Check the result\n",
    "print(type(task5))\n",
    "print(task5)\n",
    "print(task1)\n",
    "print(task2)"
   ]
  },
  {
   "cell_type": "markdown",
   "metadata": {
    "nbgrader": {
     "grade": false,
     "grade_id": "cell-41685fc4be92e50f",
     "locked": true,
     "schema_version": 3,
     "solution": false,
     "task": false
    }
   },
   "source": [
    "\n",
    "### Text in a DataFrame\n",
    "\n",
    "To this point, we have been dealing with a block of text. How do you work with multiple lines of text in a DataFrame? You can use `set` to determine the number of unique words (as above), but this will only provide a result PER ITEM, not for the entire DataFrame. \n",
    "\n",
    "Task: to determine the total amount of words in a DataFrame, first use the `word_tokenize` function with the `.apply` method, and sum the resulting column to get a non-unique list of words.  Use your work above to determine the number of non-unique words (using `len`) from `happy_df` in the `content` feature given below."
   ]
  },
  {
   "cell_type": "code",
   "execution_count": 47,
   "metadata": {},
   "outputs": [
    {
     "data": {
      "text/html": [
       "<div>\n",
       "<style scoped>\n",
       "    .dataframe tbody tr th:only-of-type {\n",
       "        vertical-align: middle;\n",
       "    }\n",
       "\n",
       "    .dataframe tbody tr th {\n",
       "        vertical-align: top;\n",
       "    }\n",
       "\n",
       "    .dataframe thead th {\n",
       "        text-align: right;\n",
       "    }\n",
       "</style>\n",
       "<table border=\"1\" class=\"dataframe\">\n",
       "  <thead>\n",
       "    <tr style=\"text-align: right;\">\n",
       "      <th></th>\n",
       "      <th>content</th>\n",
       "      <th>sentiment</th>\n",
       "    </tr>\n",
       "  </thead>\n",
       "  <tbody>\n",
       "    <tr>\n",
       "      <th>0</th>\n",
       "      <td>Wants to know how the hell I can remember word...</td>\n",
       "      <td>happy</td>\n",
       "    </tr>\n",
       "    <tr>\n",
       "      <th>1</th>\n",
       "      <td>Love is a long sweet dream &amp; marriage is an al...</td>\n",
       "      <td>happy</td>\n",
       "    </tr>\n",
       "    <tr>\n",
       "      <th>2</th>\n",
       "      <td>The world could be amazing when you are slight...</td>\n",
       "      <td>happy</td>\n",
       "    </tr>\n",
       "    <tr>\n",
       "      <th>3</th>\n",
       "      <td>My secret talent is getting tired without doin...</td>\n",
       "      <td>happy</td>\n",
       "    </tr>\n",
       "    <tr>\n",
       "      <th>4</th>\n",
       "      <td>Khatarnaak Whatsapp Status Ever… Can\\’t talk, ...</td>\n",
       "      <td>happy</td>\n",
       "    </tr>\n",
       "  </tbody>\n",
       "</table>\n",
       "</div>"
      ],
      "text/plain": [
       "                                             content sentiment\n",
       "0  Wants to know how the hell I can remember word...     happy\n",
       "1  Love is a long sweet dream & marriage is an al...     happy\n",
       "2  The world could be amazing when you are slight...     happy\n",
       "3  My secret talent is getting tired without doin...     happy\n",
       "4  Khatarnaak Whatsapp Status Ever… Can\\’t talk, ...     happy"
      ]
     },
     "execution_count": 47,
     "metadata": {},
     "output_type": "execute_result"
    }
   ],
   "source": [
    "# Import dataset\n",
    "happy_df = pd.read_csv(r'C:\\Users\\agnek\\OneDrive\\Documents\\Data\\Emotion(happy).csv')\n",
    "happy_df.head()"
   ]
  },
  {
   "cell_type": "code",
   "execution_count": 48,
   "metadata": {
    "nbgrader": {
     "grade": false,
     "grade_id": "cell-04256cbd1261ea17",
     "locked": false,
     "schema_version": 3,
     "solution": true,
     "task": false
    }
   },
   "outputs": [
    {
     "name": "stdout",
     "output_type": "stream",
     "text": [
      "<class 'int'>\n",
      "2097\n"
     ]
    }
   ],
   "source": [
    "# Determine the total amount of words in a DataFrame\n",
    "task6 = len(set(happy_df['content'].apply(word_tokenize).sum()))\n",
    "\n",
    "print(type(task6))\n",
    "print(task6)"
   ]
  },
  {
   "cell_type": "markdown",
   "metadata": {},
   "source": [
    "### Part 2: Named Entities\n",
    "\n",
    "This part of the notebook focuses on extracting named entities from text.  The named entities will be extracted using the `nltk` library.  It will read in the full text of Newton's *Principia* and identify the entities labeled as places.  \n",
    "\n",
    "#### Outline\n",
    "\n",
    "- Opening a `.txt` file\n",
    "- Tokenizing the text\n",
    "- Part of Speech Tags \n",
    "- Named Entities\n",
    "- Removing People\n",
    "- Removing stopwords"
   ]
  },
  {
   "cell_type": "code",
   "execution_count": 49,
   "metadata": {},
   "outputs": [
    {
     "name": "stderr",
     "output_type": "stream",
     "text": [
      "[nltk_data] Downloading package punkt to\n",
      "[nltk_data]     C:\\Users\\agnek\\AppData\\Roaming\\nltk_data...\n",
      "[nltk_data]   Package punkt is already up-to-date!\n",
      "[nltk_data] Downloading package averaged_perceptron_tagger to\n",
      "[nltk_data]     C:\\Users\\agnek\\AppData\\Roaming\\nltk_data...\n",
      "[nltk_data]   Package averaged_perceptron_tagger is already up-to-\n",
      "[nltk_data]       date!\n",
      "[nltk_data] Downloading package maxent_ne_chunker to\n",
      "[nltk_data]     C:\\Users\\agnek\\AppData\\Roaming\\nltk_data...\n",
      "[nltk_data]   Package maxent_ne_chunker is already up-to-date!\n",
      "[nltk_data] Downloading package words to\n",
      "[nltk_data]     C:\\Users\\agnek\\AppData\\Roaming\\nltk_data...\n",
      "[nltk_data]   Package words is already up-to-date!\n",
      "[nltk_data] Downloading package stopwords to\n",
      "[nltk_data]     C:\\Users\\agnek\\AppData\\Roaming\\nltk_data...\n",
      "[nltk_data]   Package stopwords is already up-to-date!\n"
     ]
    },
    {
     "data": {
      "text/plain": [
       "True"
      ]
     },
     "execution_count": 49,
     "metadata": {},
     "output_type": "execute_result"
    }
   ],
   "source": [
    "import nltk\n",
    "from nltk import word_tokenize\n",
    "nltk.download('punkt')\n",
    "nltk.download('averaged_perceptron_tagger')\n",
    "nltk.download('maxent_ne_chunker')\n",
    "nltk.download('words')\n",
    "nltk.download('stopwords')"
   ]
  },
  {
   "cell_type": "markdown",
   "metadata": {},
   "source": [
    "#### Opening a `.txt` file.\n",
    "\n",
    "Task: use the `open` function to open the text file with the Principia by Isaac Newton using the filepath given below.  Assign the text using the `readlines()` function to assign the text as a list of lines to the variable `principia` below. "
   ]
  },
  {
   "cell_type": "code",
   "execution_count": 50,
   "metadata": {},
   "outputs": [],
   "source": [
    "filepath = r'C:\\Users\\agnek\\OneDrive\\Documents\\Data\\Philosophiae_Naturalis_Principia_Mathematica.txt'"
   ]
  },
  {
   "cell_type": "code",
   "execution_count": 51,
   "metadata": {},
   "outputs": [
    {
     "name": "stdout",
     "output_type": "stream",
     "text": [
      "<class 'list'>\n"
     ]
    }
   ],
   "source": [
    "# Use the open function to open the text file \n",
    "with open(filepath) as f:\n",
    "    principia = f.readlines()\n",
    "\n",
    "# Check the result\n",
    "print(type(principia))"
   ]
  },
  {
   "cell_type": "markdown",
   "metadata": {},
   "source": [
    "\n",
    "### Tokenizing the text. \n",
    "\n",
    "Task: using the `principia` variable from problem 1, combine the `' '.join()` function with `word_tokenize` to create a list of tokens named `tokens`."
   ]
  },
  {
   "cell_type": "code",
   "execution_count": 52,
   "metadata": {},
   "outputs": [
    {
     "name": "stdout",
     "output_type": "stream",
     "text": [
      "<class 'list'>\n",
      "['Philosophiae', 'Naturalis', 'Principia', 'Mathematica', 'Isaacus']\n"
     ]
    }
   ],
   "source": [
    "# Create a list of tokens named `tokens`\n",
    "tokens = word_tokenize(' '.join(principia))\n",
    "\n",
    "\n",
    "# Check the result\n",
    "print(type(tokens))\n",
    "print(tokens[:5])"
   ]
  },
  {
   "cell_type": "markdown",
   "metadata": {},
   "source": [
    "\n",
    "### Part of Speech Tags \n",
    "\n",
    "Task: use the `pos_tag` function to create the part of speech tagged corpus of the principia text.  Assign the tagged text to the variable `words_pos`."
   ]
  },
  {
   "cell_type": "code",
   "execution_count": 53,
   "metadata": {},
   "outputs": [
    {
     "name": "stdout",
     "output_type": "stream",
     "text": [
      "<class 'list'>\n",
      "[('Philosophiae', 'NNP'), ('Naturalis', 'NNP'), ('Principia', 'NNP'), ('Mathematica', 'NNP'), ('Isaacus', 'NNP')]\n"
     ]
    }
   ],
   "source": [
    "# Create the part of speech tagged corpus of the principia text\n",
    "words_pos = nltk.pos_tag(tokens)\n",
    "\n",
    "# Check the result\n",
    "print(type(words_pos))\n",
    "print(words_pos[:5])"
   ]
  },
  {
   "cell_type": "markdown",
   "metadata": {},
   "source": [
    "\n",
    "### Named Entities\n",
    "\n",
    "Task: use the tagged words in `words_pos` to create a list of tuples in the form (word, entity type) if the word has a named entity label.  Assign these tuples to the list `named_entities`."
   ]
  },
  {
   "cell_type": "code",
   "execution_count": 54,
   "metadata": {},
   "outputs": [
    {
     "name": "stdout",
     "output_type": "stream",
     "text": [
      "<class 'list'>\n",
      "[('Philosophiae', 'GSP'), ('Naturalis Principia Mathematica Isaacus Newtonus', 'PERSON'), ('Wikisource', 'GPE'), ('INDEX Tituli', 'ORGANIZATION'), ('Auctoris', 'GPE')]\n"
     ]
    }
   ],
   "source": [
    "# Create a list of tuples in the form (word, entity type) \n",
    "named_entities = []\n",
    "for word in nltk.ne_chunk(words_pos):\n",
    "    if hasattr(word, 'label'):\n",
    "        named_entities.append((' '.join(c[0] for c in word.leaves()), word.label()))\n",
    "\n",
    "# Check the result\n",
    "print(type(named_entities))\n",
    "print(named_entities[:5])"
   ]
  },
  {
   "cell_type": "markdown",
   "metadata": {},
   "source": [
    "\n",
    "### Removing People\n",
    "\n",
    "Task: use the `named_entities` list to include only entities labeled `GPE` and create a list of these words lowercased as `places`."
   ]
  },
  {
   "cell_type": "code",
   "execution_count": 55,
   "metadata": {},
   "outputs": [
    {
     "name": "stdout",
     "output_type": "stream",
     "text": [
      "<class 'list'>\n",
      "['wikisource', 'auctoris', 'umbilico', 'orbibus', 'orbibus']\n"
     ]
    }
   ],
   "source": [
    "# Create a list of these words lowercased as places\n",
    "places = [i[0].lower() for i in named_entities if i[1] == 'GPE']\n",
    "\n",
    "# Check the result\n",
    "print(type(places))\n",
    "print(places[:5])"
   ]
  },
  {
   "cell_type": "markdown",
   "metadata": {},
   "source": [
    "\n",
    "### Removing stopwords\n",
    "\n",
    "Task: use the list `places` to remove all stopwords.  Assign these words as a list to `no_stops`."
   ]
  },
  {
   "cell_type": "code",
   "execution_count": 56,
   "metadata": {},
   "outputs": [],
   "source": [
    "from nltk.corpus import stopwords"
   ]
  },
  {
   "cell_type": "code",
   "execution_count": 57,
   "metadata": {},
   "outputs": [
    {
     "name": "stdout",
     "output_type": "stream",
     "text": [
      "<class 'list'>\n",
      "['wikisource', 'auctoris', 'umbilico', 'orbibus', 'orbibus', 'superficiebus', 'mediis', 'fluida']\n"
     ]
    }
   ],
   "source": [
    "# Remove all stopwords\n",
    "no_stops = [i for i in places if not i in stopwords.words('english')]\n",
    "\n",
    "# Check the result\n",
    "print(type(no_stops))\n",
    "print(no_stops)"
   ]
  },
  {
   "cell_type": "markdown",
   "metadata": {},
   "source": [
    "### Part 3: Stemming and Lemmatization\n",
    "\n",
    "In this part, notebook will stem and lemmatize a text to normalize a given text. It will use the lemmatizer and stemmer on a basic list and then turn to data in a DataFrame, writing a function to apply the lemmatization and stemming operations to a column of text data.  The data is the WhatsApp status dataset from kaggle, and notebook will focus on the `content` feature.\n",
    "\n",
    "- Stemming a list of words\n",
    "- Lemmatizing a list of words\n",
    "- A function for stemming\n",
    "- Using the stemmer on a DataFrame"
   ]
  },
  {
   "cell_type": "code",
   "execution_count": 58,
   "metadata": {},
   "outputs": [
    {
     "name": "stderr",
     "output_type": "stream",
     "text": [
      "[nltk_data] Downloading package wordnet to\n",
      "[nltk_data]     C:\\Users\\agnek\\AppData\\Roaming\\nltk_data...\n",
      "[nltk_data]   Package wordnet is already up-to-date!\n",
      "[nltk_data] Downloading package omw-1.4 to\n",
      "[nltk_data]     C:\\Users\\agnek\\AppData\\Roaming\\nltk_data...\n",
      "[nltk_data]   Package omw-1.4 is already up-to-date!\n",
      "[nltk_data] Downloading package punkt to\n",
      "[nltk_data]     C:\\Users\\agnek\\AppData\\Roaming\\nltk_data...\n",
      "[nltk_data]   Package punkt is already up-to-date!\n"
     ]
    },
    {
     "data": {
      "text/plain": [
       "True"
      ]
     },
     "execution_count": 58,
     "metadata": {},
     "output_type": "execute_result"
    }
   ],
   "source": [
    "import pandas as pd\n",
    "import nltk\n",
    "from nltk.stem import PorterStemmer, WordNetLemmatizer\n",
    "from nltk import word_tokenize\n",
    "nltk.download('wordnet')\n",
    "nltk.download('omw-1.4')\n",
    "nltk.download('punkt')"
   ]
  },
  {
   "cell_type": "markdown",
   "metadata": {},
   "source": [
    "#### The Data\n",
    "\n",
    "The text data again comes from [kaggle](https://www.kaggle.com/datasets/sankha1998/emotion?select=Emotion%28sad%29.csv) and is related to classifying WhatsApp status. We load in only the \"angry\" sentiment below.\n"
   ]
  },
  {
   "cell_type": "code",
   "execution_count": 60,
   "metadata": {},
   "outputs": [],
   "source": [
    "angry = pd.read_csv(r'C:\\Users\\agnek\\OneDrive\\Documents\\Data\\Emotion(angry).csv')"
   ]
  },
  {
   "cell_type": "code",
   "execution_count": 61,
   "metadata": {},
   "outputs": [
    {
     "data": {
      "text/html": [
       "<div>\n",
       "<style scoped>\n",
       "    .dataframe tbody tr th:only-of-type {\n",
       "        vertical-align: middle;\n",
       "    }\n",
       "\n",
       "    .dataframe tbody tr th {\n",
       "        vertical-align: top;\n",
       "    }\n",
       "\n",
       "    .dataframe thead th {\n",
       "        text-align: right;\n",
       "    }\n",
       "</style>\n",
       "<table border=\"1\" class=\"dataframe\">\n",
       "  <thead>\n",
       "    <tr style=\"text-align: right;\">\n",
       "      <th></th>\n",
       "      <th>content</th>\n",
       "      <th>sentiment</th>\n",
       "    </tr>\n",
       "  </thead>\n",
       "  <tbody>\n",
       "    <tr>\n",
       "      <th>0</th>\n",
       "      <td>Sometimes I’m not angry, I’m hurt and there’s ...</td>\n",
       "      <td>angry</td>\n",
       "    </tr>\n",
       "    <tr>\n",
       "      <th>1</th>\n",
       "      <td>Not available for busy people☺</td>\n",
       "      <td>angry</td>\n",
       "    </tr>\n",
       "    <tr>\n",
       "      <th>2</th>\n",
       "      <td>I do not exist to impress the world. I exist t...</td>\n",
       "      <td>angry</td>\n",
       "    </tr>\n",
       "    <tr>\n",
       "      <th>3</th>\n",
       "      <td>Everything is getting expensive except some pe...</td>\n",
       "      <td>angry</td>\n",
       "    </tr>\n",
       "    <tr>\n",
       "      <th>4</th>\n",
       "      <td>My phone screen is brighter than my future 🙁</td>\n",
       "      <td>angry</td>\n",
       "    </tr>\n",
       "  </tbody>\n",
       "</table>\n",
       "</div>"
      ],
      "text/plain": [
       "                                             content sentiment\n",
       "0  Sometimes I’m not angry, I’m hurt and there’s ...     angry\n",
       "1                     Not available for busy people☺     angry\n",
       "2  I do not exist to impress the world. I exist t...     angry\n",
       "3  Everything is getting expensive except some pe...     angry\n",
       "4       My phone screen is brighter than my future 🙁     angry"
      ]
     },
     "execution_count": 61,
     "metadata": {},
     "output_type": "execute_result"
    }
   ],
   "source": [
    "angry.head()"
   ]
  },
  {
   "cell_type": "markdown",
   "metadata": {},
   "source": [
    "\n",
    "### Stemming a list of words\n",
    "\n",
    "Task: use `PorterStemmer` to stem the different variations on the word \"compute\" in the list `C` below.  Assign your results to the list `stemmed_words`. "
   ]
  },
  {
   "cell_type": "code",
   "execution_count": 62,
   "metadata": {},
   "outputs": [],
   "source": [
    "C = ['computer', 'computing', 'computed', 'computes', 'computation', 'compute']"
   ]
  },
  {
   "cell_type": "code",
   "execution_count": 63,
   "metadata": {},
   "outputs": [
    {
     "name": "stdout",
     "output_type": "stream",
     "text": [
      "<class 'list'>\n",
      "['comput', 'comput', 'comput', 'comput', 'comput', 'comput']\n"
     ]
    }
   ],
   "source": [
    "# Stem the different variations on the word \"compute\" \n",
    "stemmer = PorterStemmer()\n",
    "stemmed_words = [stemmer.stem(w) for w in C]\n",
    "\n",
    "# Check the result\n",
    "print(type(stemmed_words))\n",
    "print(stemmed_words)"
   ]
  },
  {
   "cell_type": "markdown",
   "metadata": {},
   "source": [
    "\n",
    "### Lemmatizing a list of words\n",
    "\n",
    "Task: use `WordNetLemmatizer` to stem the different variations on the word \"compute\" in the list `C` below.  Assign your results to the list `lemmatized_words`. "
   ]
  },
  {
   "cell_type": "code",
   "execution_count": 64,
   "metadata": {},
   "outputs": [
    {
     "name": "stdout",
     "output_type": "stream",
     "text": [
      "<class 'list'>\n",
      "['computer', 'computing', 'computed', 'computes', 'computation', 'compute']\n"
     ]
    }
   ],
   "source": [
    "# Use WordNetLemmatizer to stem the different variations on the word \"compute\"\n",
    "lemma = WordNetLemmatizer()\n",
    "lemmatized_words = [lemma.lemmatize(w) for w in C]\n",
    "\n",
    "# Check the result\n",
    "print(type(lemmatized_words))\n",
    "print(lemmatized_words)"
   ]
  },
  {
   "cell_type": "markdown",
   "metadata": {},
   "source": [
    "### A function for stemming\n",
    "\n",
    "Task: use `PorterStemmer` to create the function called `stemmer`. This function should take in a string of text and return a string of stemmed text. Note that you will need to tokenize the text before stemming and should return a single string.  \n"
   ]
  },
  {
   "cell_type": "code",
   "execution_count": 65,
   "metadata": {},
   "outputs": [
    {
     "name": "stdout",
     "output_type": "stream",
     "text": [
      "The computer did not compute the answers correctly.\n",
      "the comput did not comput the answer correctli .\n"
     ]
    }
   ],
   "source": [
    "# Define the function\n",
    "def stemmer(text):\n",
    "    '''\n",
    "    This function takes in a string of text and returns\n",
    "    a string of stemmed text.\n",
    "    \n",
    "    Arguments\n",
    "    ---------\n",
    "    text: str\n",
    "        string of text to be stemmed\n",
    "        \n",
    "    Returns\n",
    "    -------\n",
    "    str\n",
    "       string of stemmed words from the text input\n",
    "    '''\n",
    "    \n",
    "    \n",
    "    stem = PorterStemmer()\n",
    "    return ' '.join([stem.stem(w) for w in word_tokenize(text)])\n",
    "\n",
    "\n",
    "# Check the result\n",
    "text = 'The computer did not compute the answers correctly.'\n",
    "print(text)\n",
    "print(stemmer(text))"
   ]
  },
  {
   "cell_type": "markdown",
   "metadata": {},
   "source": [
    "### Using the stemmer on a DataFrame\n",
    "\n",
    "Task: use function `stemmer` to apply to the `content` feature of the DataFrame `angry`. Use the `.apply` method. Assign the resulting series to `stemmed_content`.\n"
   ]
  },
  {
   "cell_type": "code",
   "execution_count": 36,
   "metadata": {},
   "outputs": [
    {
     "name": "stdout",
     "output_type": "stream",
     "text": [
      "<class 'pandas.core.series.Series'>\n",
      "0    sometim i ’ m not angri , i ’ m hurt and there...\n",
      "1                           not avail for busi people☺\n",
      "2    i do not exist to impress the world . i exist ...\n",
      "3    everyth is get expens except some peopl , they...\n",
      "4          my phone screen is brighter than my futur 🙁\n",
      "Name: content, dtype: object\n"
     ]
    }
   ],
   "source": [
    "# Use function `stemmer` to apply to the `content` feature of the DataFrame `angry`\n",
    "stemmed_content = angry['content'].apply(stemmer)\n",
    "\n",
    "# Check the result\n",
    "print(type(stemmed_content))\n",
    "print(stemmed_content.head())"
   ]
  },
  {
   "cell_type": "code",
   "execution_count": null,
   "metadata": {},
   "outputs": [],
   "source": []
  }
 ],
 "metadata": {
  "celltoolbar": "Create Assignment",
  "kernelspec": {
   "display_name": "Python 3 (ipykernel)",
   "language": "python",
   "name": "python3"
  },
  "language_info": {
   "codemirror_mode": {
    "name": "ipython",
    "version": 3
   },
   "file_extension": ".py",
   "mimetype": "text/x-python",
   "name": "python",
   "nbconvert_exporter": "python",
   "pygments_lexer": "ipython3",
   "version": "3.9.13"
  }
 },
 "nbformat": 4,
 "nbformat_minor": 4
}
